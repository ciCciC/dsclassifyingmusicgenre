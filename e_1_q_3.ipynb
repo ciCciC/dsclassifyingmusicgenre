{
 "cells": [
  {
   "cell_type": "markdown",
   "metadata": {
    "collapsed": true
   },
   "source": [
    "# Classifying certain music genre and others utilizing Log-likelihood Ratio and Logistic Regression"
   ]
  },
  {
   "cell_type": "markdown",
   "source": [
    "### Operationalization: 2021/2022"
   ],
   "metadata": {
    "collapsed": false
   }
  },
  {
   "cell_type": "markdown",
   "metadata": {},
   "source": [
    "Below you will find the list of the imported libraries for being able to use certain functions for desired usage."
   ]
  },
  {
   "cell_type": "code",
   "execution_count": 1,
   "metadata": {},
   "outputs": [],
   "source": [
    "import spacy\n",
    "import numpy as np\n",
    "import pandas as pd\n",
    "import matplotlib.pyplot as plt\n",
    "import pickle\n",
    "import re\n",
    "from sklearn import metrics\n",
    "\n",
    "from sklearn.feature_extraction.text import CountVectorizer\n",
    "from sklearn.linear_model import LogisticRegression\n",
    "from sklearn.metrics import classification_report, ConfusionMatrixDisplay\n",
    "from sklearn.model_selection import train_test_split\n",
    "from scipy.stats import chi2_contingency\n",
    "from collections import Counter"
   ]
  },
  {
   "cell_type": "markdown",
   "metadata": {},
   "source": [
    "Explanation of library usage\n",
    "\n",
    "- pandas: this package will be used to be able to read data, visualization of the results and managing data (transforming, adding, removing etc.)\n",
    "- spacy: this package will be used for pre-processing task such as tokenization and cleaning text\n",
    "- numpy: for manipulating arrays\n",
    "- matplotlib: to visualize data within plot\n",
    "- re: for applying regex, text cleaning\n",
    "- pickle: to read in the lyrics data set\n",
    "- sklearn: to have access to functions to perform vectorization, splitting training data, model training, evaluation\n",
    "- scipy: for applying LLR (Log-likelihood ratio) by using chi2\n",
    "- collections: for counting words within a collection"
   ]
  },
  {
   "cell_type": "markdown",
   "metadata": {},
   "source": [
    "# Approach\n",
    "\n",
    "In order to answer this question, we must first understand the question posed. The producer would like to know the characteristics of a pop song. This means that we have to extract the characteristics of the pop song genre that distinguish it from other genres. Furthermore, with the result from extraction we will conclude whether the given lyrics is a classic pop or not.\n",
    "\n",
    "To have an answer for the question we will need to follow the following steps:\n",
    "- Firstly, we will clean the lyrics, to get a desired text format because we don't want e.g. punctuations to distort our analysis\n",
    "- We will apply LLR to get the distinct words of pop songs and others to compare both\n",
    "- We will train a logistic regression model based on the lyrics and apply class weights for the imbalanced data\n",
    "- We will use the logistic regression model to predict the label for the given lyrics\n",
    "- Lastly, evaluate the results gained from the model and the LLR"
   ]
  },
  {
   "cell_type": "markdown",
   "metadata": {},
   "source": [
    "## Phase 1: pre-processing steps and LLR\n",
    "\n",
    "In this phase we will apply pre-processing techniques and apply LLR"
   ]
  },
  {
   "cell_type": "markdown",
   "metadata": {},
   "source": [
    "### Step 1: read data and view the structure to get a idea about the data"
   ]
  },
  {
   "cell_type": "code",
   "execution_count": 2,
   "metadata": {},
   "outputs": [],
   "source": [
    "def load_dataset(data_path, path_correction):\n",
    "    df = pd.read_csv(data_path)\n",
    "    indx2newdate = pickle.load(open(path_correction, 'rb'))\n",
    "    df['year'] = df['index'].apply(lambda x: int(indx2newdate[x][0][:4]) if indx2newdate[x][0] != '' else 0)\n",
    "    return df[df.year > 1960][['song', 'year', 'artist', 'genre', 'lyrics']]"
   ]
  },
  {
   "cell_type": "code",
   "execution_count": 3,
   "metadata": {},
   "outputs": [],
   "source": [
    "PATH_DF = '../data/english_cleaned_lyrics.csv' # change this to your dir\n",
    "PATH_CORRECTION = '../data/indx2newdate.p' # idem\n",
    "\n",
    "# load in the data set\n",
    "df_songs = load_dataset(PATH_DF, PATH_CORRECTION)"
   ]
  },
  {
   "cell_type": "code",
   "execution_count": 4,
   "metadata": {},
   "outputs": [
    {
     "data": {
      "text/plain": [
       "Rock          77556\n",
       "Pop           23295\n",
       "Metal         15671\n",
       "Hip-Hop       14878\n",
       "Country       10545\n",
       "Electronic     5194\n",
       "Jazz           5068\n",
       "Indie          2489\n",
       "Other          2449\n",
       "R&B            2338\n",
       "Folk           1373\n",
       "Name: genre, dtype: int64"
      ]
     },
     "execution_count": 4,
     "metadata": {},
     "output_type": "execute_result"
    }
   ],
   "source": [
    "# displaying the count of each genre\n",
    "df_songs.genre.value_counts()"
   ]
  },
  {
   "cell_type": "code",
   "execution_count": 5,
   "metadata": {},
   "outputs": [
    {
     "data": {
      "text/html": [
       "<div>\n",
       "<style scoped>\n",
       "    .dataframe tbody tr th:only-of-type {\n",
       "        vertical-align: middle;\n",
       "    }\n",
       "\n",
       "    .dataframe tbody tr th {\n",
       "        vertical-align: top;\n",
       "    }\n",
       "\n",
       "    .dataframe thead th {\n",
       "        text-align: right;\n",
       "    }\n",
       "</style>\n",
       "<table border=\"1\" class=\"dataframe\">\n",
       "  <thead>\n",
       "    <tr style=\"text-align: right;\">\n",
       "      <th></th>\n",
       "      <th>song</th>\n",
       "      <th>year</th>\n",
       "      <th>artist</th>\n",
       "      <th>genre</th>\n",
       "      <th>lyrics</th>\n",
       "    </tr>\n",
       "  </thead>\n",
       "  <tbody>\n",
       "    <tr>\n",
       "      <th>0</th>\n",
       "      <td>ego-remix</td>\n",
       "      <td>2009</td>\n",
       "      <td>beyonce-knowles</td>\n",
       "      <td>Pop</td>\n",
       "      <td>Oh baby how you doing You know I'm gonna cut r...</td>\n",
       "    </tr>\n",
       "    <tr>\n",
       "      <th>5</th>\n",
       "      <td>all-i-could-do-was-cry</td>\n",
       "      <td>2008</td>\n",
       "      <td>beyonce-knowles</td>\n",
       "      <td>Pop</td>\n",
       "      <td>I heard Church bells ringing I heard A choir s...</td>\n",
       "    </tr>\n",
       "    <tr>\n",
       "      <th>6</th>\n",
       "      <td>once-in-a-lifetime</td>\n",
       "      <td>2008</td>\n",
       "      <td>beyonce-knowles</td>\n",
       "      <td>Pop</td>\n",
       "      <td>This is just another day that I would spend Wa...</td>\n",
       "    </tr>\n",
       "    <tr>\n",
       "      <th>9</th>\n",
       "      <td>why-don-t-you-love-me</td>\n",
       "      <td>2009</td>\n",
       "      <td>beyonce-knowles</td>\n",
       "      <td>Pop</td>\n",
       "      <td>N n now honey You better sit down and look aro...</td>\n",
       "    </tr>\n",
       "    <tr>\n",
       "      <th>16</th>\n",
       "      <td>poison</td>\n",
       "      <td>2009</td>\n",
       "      <td>beyonce-knowles</td>\n",
       "      <td>Pop</td>\n",
       "      <td>You're bad for me I clearly get it I don't see...</td>\n",
       "    </tr>\n",
       "  </tbody>\n",
       "</table>\n",
       "</div>"
      ],
      "text/plain": [
       "                      song  year           artist genre  \\\n",
       "0                ego-remix  2009  beyonce-knowles   Pop   \n",
       "5   all-i-could-do-was-cry  2008  beyonce-knowles   Pop   \n",
       "6       once-in-a-lifetime  2008  beyonce-knowles   Pop   \n",
       "9    why-don-t-you-love-me  2009  beyonce-knowles   Pop   \n",
       "16                  poison  2009  beyonce-knowles   Pop   \n",
       "\n",
       "                                               lyrics  \n",
       "0   Oh baby how you doing You know I'm gonna cut r...  \n",
       "5   I heard Church bells ringing I heard A choir s...  \n",
       "6   This is just another day that I would spend Wa...  \n",
       "9   N n now honey You better sit down and look aro...  \n",
       "16  You're bad for me I clearly get it I don't see...  "
      ]
     },
     "execution_count": 5,
     "metadata": {},
     "output_type": "execute_result"
    }
   ],
   "source": [
    "# copy the data frame so we don't modify the original data\n",
    "df_copied_songs = df_songs.copy()\n",
    "df_copied_songs.head()"
   ]
  },
  {
   "cell_type": "markdown",
   "metadata": {},
   "source": [
    "### Step 2: pre-processing\n",
    "\n",
    "For better structural work for LLR and desired text format for training a model we will apply the following:\n",
    "- Because Spacy will take a lot of time and require large memory due to the size of the dataset, we will have to develop a custom method for lemma and pos tagging including cleaning the text ourselves\n",
    "- Custom lemma method: run spacy on all unique words within the data frame then create a word X lemma dictionary to swap each word on each row with the related lemma and fetch NOUN and ADJ.\n",
    "- Lemma: I will use lemma for comparison of words and feature extraction for training purposes because it removes the inflectional endings and keeps the base form of a word. Also, because we are not interested in the style of the text but more on what makes Pop lyrics belong to Pop genre by extracting the features.\n",
    "- NOUN/ ADJ: to get better indicators of words within the documents\n",
    "- Regex: we only keep alphabetic characters by removing escape characters and numerical values\n",
    "- Lowercase: this is commonly used according to paper: 'How we do things with words analyzing text as Social and Cultural'\n",
    "- Stopword: we will use the default stopwords list from Spacy. I have chosen to remove stopwords because I don't want them to get a high probability within LLR so I can get only the relevant words."
   ]
  },
  {
   "cell_type": "code",
   "execution_count": 22,
   "metadata": {},
   "outputs": [],
   "source": [
    "# custom word lemma dictionary creator\n",
    "def word_lemma_dictionary(doc_v):\n",
    "    text_lemma = {}\n",
    "    for doc in doc_v:\n",
    "        for token in doc:\n",
    "            if not token.is_punct and token.pos_ in ['NOUN', 'ADJ'] and not token.is_stop:\n",
    "                text_lemma[token.text] = token.lemma_\n",
    "    return text_lemma\n",
    "\n",
    "# text cleaner and swapping word with the related lemma\n",
    "def clean(v_sentence, word_lemma_dict):\n",
    "    raw_split = v_sentence.split()\n",
    "    new_words = []\n",
    "\n",
    "    for word in raw_split:\n",
    "        if word in word_lemma_dict and len(word) > 1:\n",
    "            lemma = word_lemma_dict[word]\n",
    "            new_words.append(lemma.lower())\n",
    "\n",
    "    return new_words\n",
    "\n",
    "# lambda func for flattening a n > 1d array\n",
    "flatten = lambda t: [item for sublist in t for item in sublist]\n",
    "\n",
    "# computes chi2 and returns llr\n",
    "def compute_llr(freq_row):\n",
    "    split = 2\n",
    "    rr = freq_row[:split][1] / freq_row[split:][1] > freq_row[:split][0] / freq_row[split:][0]\n",
    "    llr, p_value, _, _ = chi2_contingency(\n",
    "        [freq_row[:split], freq_row[split:]], lambda_='log-likelihood')\n",
    "\n",
    "    return [-llr if rr else llr, p_value]"
   ]
  },
  {
   "cell_type": "code",
   "execution_count": 15,
   "metadata": {},
   "outputs": [],
   "source": [
    "# flatten and get a set of unique words from all words within the data frame\n",
    "all_words = list(set(flatten(df_copied_songs.lyrics.str.split())))"
   ]
  },
  {
   "cell_type": "code",
   "execution_count": 18,
   "metadata": {},
   "outputs": [
    {
     "name": "stdout",
     "output_type": "stream",
     "text": [
      "CPU times: user 40 s, sys: 996 ms, total: 41 s\n",
      "Wall time: 1min 33s\n"
     ]
    }
   ],
   "source": [
    "%%time\n",
    "nlp = spacy.load(\"en_core_web_sm\")\n",
    "# apply NLP on all unique words\n",
    "processed_texts = [doc for doc in nlp.pipe(all_words, n_process=2, batch_size=2000, disable=[\"ner\", \"parser\"])]\n"
   ]
  },
  {
   "cell_type": "code",
   "execution_count": 19,
   "metadata": {},
   "outputs": [
    {
     "name": "stdout",
     "output_type": "stream",
     "text": [
      "CPU times: user 163 ms, sys: 63.2 ms, total: 226 ms\n",
      "Wall time: 225 ms\n"
     ]
    }
   ],
   "source": [
    "%%time\n",
    "# get a word X lemma dictionary of all words\n",
    "all_words_dictionary = word_lemma_dictionary(processed_texts)\n"
   ]
  },
  {
   "cell_type": "code",
   "execution_count": 23,
   "metadata": {},
   "outputs": [
    {
     "name": "stdout",
     "output_type": "stream",
     "text": [
      "CPU times: user 4.38 s, sys: 64.9 ms, total: 4.44 s\n",
      "Wall time: 4.44 s\n"
     ]
    }
   ],
   "source": [
    "%%time\n",
    "# clean the text and save it in a new column\n",
    "df_copied_songs['clean_text'] = df_copied_songs.lyrics.apply(lambda sentence: clean(sentence, all_words_dictionary))\n"
   ]
  },
  {
   "cell_type": "code",
   "execution_count": 24,
   "metadata": {},
   "outputs": [
    {
     "data": {
      "text/html": [
       "<div>\n",
       "<style scoped>\n",
       "    .dataframe tbody tr th:only-of-type {\n",
       "        vertical-align: middle;\n",
       "    }\n",
       "\n",
       "    .dataframe tbody tr th {\n",
       "        vertical-align: top;\n",
       "    }\n",
       "\n",
       "    .dataframe thead th {\n",
       "        text-align: right;\n",
       "    }\n",
       "</style>\n",
       "<table border=\"1\" class=\"dataframe\">\n",
       "  <thead>\n",
       "    <tr style=\"text-align: right;\">\n",
       "      <th></th>\n",
       "      <th>song</th>\n",
       "      <th>year</th>\n",
       "      <th>artist</th>\n",
       "      <th>genre</th>\n",
       "      <th>lyrics</th>\n",
       "      <th>clean_text</th>\n",
       "    </tr>\n",
       "  </thead>\n",
       "  <tbody>\n",
       "    <tr>\n",
       "      <th>0</th>\n",
       "      <td>ego-remix</td>\n",
       "      <td>2009</td>\n",
       "      <td>beyonce-knowles</td>\n",
       "      <td>Pop</td>\n",
       "      <td>Oh baby how you doing You know I'm gonna cut r...</td>\n",
       "      <td>[baby, right, chase, woman, special, purpose, ...</td>\n",
       "    </tr>\n",
       "    <tr>\n",
       "      <th>5</th>\n",
       "      <td>all-i-could-do-was-cry</td>\n",
       "      <td>2008</td>\n",
       "      <td>beyonce-knowles</td>\n",
       "      <td>Pop</td>\n",
       "      <td>I heard Church bells ringing I heard A choir s...</td>\n",
       "      <td>[church, bell, singing, love, finger, ring, ha...</td>\n",
       "    </tr>\n",
       "    <tr>\n",
       "      <th>6</th>\n",
       "      <td>once-in-a-lifetime</td>\n",
       "      <td>2008</td>\n",
       "      <td>beyonce-knowles</td>\n",
       "      <td>Pop</td>\n",
       "      <td>This is just another day that I would spend Wa...</td>\n",
       "      <td>[day, right, night, wishin, warm, sun, dream, ...</td>\n",
       "    </tr>\n",
       "    <tr>\n",
       "      <th>9</th>\n",
       "      <td>why-don-t-you-love-me</td>\n",
       "      <td>2009</td>\n",
       "      <td>beyonce-knowles</td>\n",
       "      <td>Pop</td>\n",
       "      <td>N n now honey You better sit down and look aro...</td>\n",
       "      <td>[honey, well, yo, head, love, talk, sense, bab...</td>\n",
       "    </tr>\n",
       "    <tr>\n",
       "      <th>16</th>\n",
       "      <td>poison</td>\n",
       "      <td>2009</td>\n",
       "      <td>beyonce-knowles</td>\n",
       "      <td>Pop</td>\n",
       "      <td>You're bad for me I clearly get it I don't see...</td>\n",
       "      <td>[bad, good, death, mission, cause, bit, streng...</td>\n",
       "    </tr>\n",
       "  </tbody>\n",
       "</table>\n",
       "</div>"
      ],
      "text/plain": [
       "                      song  year           artist genre  \\\n",
       "0                ego-remix  2009  beyonce-knowles   Pop   \n",
       "5   all-i-could-do-was-cry  2008  beyonce-knowles   Pop   \n",
       "6       once-in-a-lifetime  2008  beyonce-knowles   Pop   \n",
       "9    why-don-t-you-love-me  2009  beyonce-knowles   Pop   \n",
       "16                  poison  2009  beyonce-knowles   Pop   \n",
       "\n",
       "                                               lyrics  \\\n",
       "0   Oh baby how you doing You know I'm gonna cut r...   \n",
       "5   I heard Church bells ringing I heard A choir s...   \n",
       "6   This is just another day that I would spend Wa...   \n",
       "9   N n now honey You better sit down and look aro...   \n",
       "16  You're bad for me I clearly get it I don't see...   \n",
       "\n",
       "                                           clean_text  \n",
       "0   [baby, right, chase, woman, special, purpose, ...  \n",
       "5   [church, bell, singing, love, finger, ring, ha...  \n",
       "6   [day, right, night, wishin, warm, sun, dream, ...  \n",
       "9   [honey, well, yo, head, love, talk, sense, bab...  \n",
       "16  [bad, good, death, mission, cause, bit, streng...  "
      ]
     },
     "execution_count": 24,
     "metadata": {},
     "output_type": "execute_result"
    }
   ],
   "source": [
    "# quick view of the data structure\n",
    "df_copied_songs.head()"
   ]
  },
  {
   "cell_type": "markdown",
   "metadata": {},
   "source": [
    "### Step 3: LLR and visualize\n",
    "Here we will apply LLR to extract the words that distinguish pop from the rest. First, we will create 2 subsets for comparison. Then, apply word count and frequency which we will need to compute LLR. Finally, compute the LLR and visualize the most distinguishing words of pop and other."
   ]
  },
  {
   "cell_type": "code",
   "execution_count": 25,
   "metadata": {},
   "outputs": [],
   "source": [
    "# predefine condition\n",
    "condition = df_copied_songs.genre == 'Pop'\n",
    "\n",
    "# extract 2 subsets\n",
    "df_pop = df_copied_songs[condition].copy()\n",
    "df_other = df_copied_songs[~condition].copy()\n",
    "\n",
    "# get all counts except pop\n",
    "word_count_other = Counter(flatten(df_other.clean_text))\n",
    "freq_other = sum(word_count_other.values())\n",
    "\n",
    "# get all counts pop\n",
    "word_count_pop = Counter(flatten(df_pop.clean_text))\n",
    "freq_pop = sum(word_count_pop.values())\n"
   ]
  },
  {
   "cell_type": "code",
   "execution_count": 26,
   "metadata": {},
   "outputs": [],
   "source": [
    "# create df for pop with the counted words\n",
    "df_counted_pop = pd.DataFrame.from_dict(word_count_pop, orient='index').reset_index().rename(columns={'index':'word', 0:'count_pop'})\n",
    "\n",
    "# use word from pop to get the count in other lyrics that are not in pop subset\n",
    "df_counted_pop['count_non_pop'] = df_counted_pop.word.apply(lambda word: word_count_other[word])"
   ]
  },
  {
   "cell_type": "code",
   "execution_count": 294,
   "metadata": {},
   "outputs": [],
   "source": [
    "# create df for other with the counted words\n",
    "df_counted_other = pd.DataFrame.from_dict(word_count_other, orient='index').reset_index().rename(columns={'index':'word', 0:'count_other'})\n",
    "\n",
    "# use word from other to get the count in pop lyrics that are not in other subset\n",
    "df_counted_other['count_pop'] = df_counted_other.word.apply(lambda word: word_count_pop[word])\n"
   ]
  },
  {
   "cell_type": "code",
   "execution_count": 27,
   "metadata": {},
   "outputs": [],
   "source": [
    "# add all other freq word count - freq of each word count row by row\n",
    "df_counted_pop['freq_all_pop'] = df_counted_pop.count_pop.apply(lambda word_count: freq_pop - word_count)\n",
    "df_counted_pop['freq_all_non_pop'] = df_counted_pop.count_non_pop.apply(lambda word_count: freq_other - word_count)\n"
   ]
  },
  {
   "cell_type": "code",
   "execution_count": 296,
   "metadata": {},
   "outputs": [],
   "source": [
    "# add all pop freq word count - freq of each word count row by row\n",
    "df_counted_other['freq_all_other'] = df_counted_other.count_other.apply(lambda word_count: freq_other - word_count)\n",
    "df_counted_other['freq_all_pop'] = df_counted_other.count_pop.apply(lambda word_count: freq_pop - word_count)\n"
   ]
  },
  {
   "cell_type": "code",
   "execution_count": 28,
   "metadata": {},
   "outputs": [],
   "source": [
    "# compute the llr row by row by giving the word freq from pop and other\n",
    "df_counted_pop[['llr', 'p_value']] = df_counted_pop[['count_pop', 'count_non_pop', 'freq_all_pop', 'freq_all_non_pop']].apply(lambda values: compute_llr(values), axis=1, result_type='expand')\n"
   ]
  },
  {
   "cell_type": "code",
   "execution_count": 298,
   "metadata": {},
   "outputs": [],
   "source": [
    "# compute the llr row by row by giving the word freq from other and pop\n",
    "df_counted_other[['llr', 'p_value']] = df_counted_other[['count_other', 'count_pop', 'freq_all_other', 'freq_all_pop']].apply(lambda values: compute_llr(values), axis=1, result_type='expand')\n"
   ]
  },
  {
   "cell_type": "code",
   "execution_count": 304,
   "metadata": {},
   "outputs": [
    {
     "data": {
      "image/png": "[encoded data removed]",
      "text/plain": [
       "<Figure size 648x504 with 1 Axes>"
      ]
     },
     "metadata": {
      "needs_background": "light"
     },
     "output_type": "display_data"
    }
   ],
   "source": [
    "# visualize the results\n",
    "plot_pop_vs_all = df_counted_pop[['word', 'llr']].sort_values(by='llr', ascending=False).head(30)\n",
    "\n",
    "# define the properties to render the plot\n",
    "font = {'size': 22}\n",
    "fig, ax = plt.subplots(figsize=(9, 7), tight_layout=True)\n",
    "\n",
    "y_pos = np.arange(len(plot_pop_vs_all.word))\n",
    "ax.barh(y_pos, plot_pop_vs_all.llr, color='orange')\n",
    "ax.set_yticks(y_pos)\n",
    "ax.set_yticklabels(plot_pop_vs_all.word)\n",
    "ax.invert_yaxis()\n",
    "ax.set_xlabel('LLR', font)\n",
    "ax.set_ylabel('Distinctive words', font)\n",
    "ax.set_title('Subset pop vs other', font)\n",
    "\n",
    "plt.show()"
   ]
  },
  {
   "cell_type": "code",
   "execution_count": 300,
   "metadata": {},
   "outputs": [
    {
     "data": {
      "image/png": "[encoded data removed]",
      "text/plain": [
       "<Figure size 648x504 with 1 Axes>"
      ]
     },
     "metadata": {
      "needs_background": "light"
     },
     "output_type": "display_data"
    }
   ],
   "source": [
    "# visualize the results\n",
    "plot_other_vs_pop = df_counted_other[['word', 'llr']].sort_values(by='llr', ascending=False).head(30)\n",
    "\n",
    "# define the properties to render the plot\n",
    "font = {'size': 22}\n",
    "fig2, ax2 = plt.subplots(figsize=(9, 7), tight_layout=True)\n",
    "\n",
    "y_pos2 = np.arange(len(plot_other_vs_pop.word))\n",
    "ax2.barh(y_pos2, plot_other_vs_pop.llr, color='orange')\n",
    "ax2.set_yticks(y_pos2)\n",
    "ax2.set_yticklabels(plot_other_vs_pop.word)\n",
    "ax2.invert_yaxis()\n",
    "ax2.set_xlabel('LLR', font)\n",
    "ax2.set_ylabel('Distinctive words', font)\n",
    "ax2.set_title('Subset other vs pop', font)\n",
    "\n",
    "plt.show()"
   ]
  },
  {
   "cell_type": "markdown",
   "metadata": {},
   "source": [
    "## Interpretation\n",
    "\n",
    "The plot above shows the most distinguishing words of pop compared to other (not pop). The data shows the characteristics of pop such as love, baby, heart, touch, lover, girl/boy and night. Based on this information, we can say that pop is more of a love and romantic world. Looking at the most distinctive words of Other we can clearly see that it does not fit in Pop music. However, when comparing Pop vs Other, I have to admit that the most distinctive words of Pop could also be found in Other like Country and Indie but because the predominant genres like Rock, Hip-Hop and Metal have incredibly high LLR scores they are rare. This probably doesn't answer the question, but it does give an indication of Pop's characteristics. In addition, it also offers an opportunity to perform a further analysis by applying for example a Topic Model to obtain the most prominent topics within genres.\n"
   ]
  },
  {
   "cell_type": "markdown",
   "metadata": {},
   "source": [
    "## Phase 2: train a Logistic Regression model and evaluation\n",
    "\n",
    "Within this phase we will train a logistic regression model by first applying model selection due to imbalanced data to overcome poor performance on the minority class. Furthermore, we will choose the best model and apply evaluation.\n",
    "\n",
    "- firstly, we will have to encode the labels with 0 for other and 1 for pop\n",
    "- then split the data into train and test\n",
    "- apply vectorization (BoW), transforming to a format which the machine understands\n",
    "- perform different values for class weight to handle imbalanced data\n",
    "- choose best model and evaluate\n",
    "- lastly, predict the label for the unseen data lyrics"
   ]
  },
  {
   "cell_type": "markdown",
   "metadata": {},
   "source": [
    "### Step 1: preparing the train 70% and test 30% data\n",
    "- firstly, we will have to encode the labels with 0 for other and 1 for pop\n",
    "- then split the data into train and test"
   ]
  },
  {
   "cell_type": "code",
   "execution_count": 31,
   "metadata": {},
   "outputs": [
    {
     "data": {
      "text/plain": [
       "0    137561\n",
       "1     23295\n",
       "Name: label_encode, dtype: int64"
      ]
     },
     "execution_count": 31,
     "metadata": {},
     "output_type": "execute_result"
    }
   ],
   "source": [
    "df_copied_songs['label_encode'] = df_copied_songs.genre.apply(lambda x: 1 if x == 'Pop' else 0)\n",
    "df_copied_songs.label_encode.value_counts()"
   ]
  },
  {
   "cell_type": "code",
   "execution_count": 142,
   "metadata": {},
   "outputs": [],
   "source": [
    "# prepare X input and y outcome data set\n",
    "X = df_copied_songs.clean_text.values.tolist()\n",
    "y = df_copied_songs.label_encode.values.tolist()\n",
    "\n",
    "# declare set labels\n",
    "labels = ['other', 'pop']\n",
    "\n",
    "# split the data in train and test set\n",
    "X_train_str, X_test_str, y_train, y_test = train_test_split(X, y, test_size=0.3, random_state=1, stratify=y)\n"
   ]
  },
  {
   "cell_type": "markdown",
   "metadata": {},
   "source": [
    "### Step 2: vectorization, class weights\n",
    "\n",
    "- we will create a vector representation of the data by applying BOW. We dont need stopword list because that is already applied before with spacy\n",
    "- we will not use TF-IDF because, e.g. the word World is common within a genre that characterizes that genre, it can lead to a reduction in characteristics\n",
    "- we only want to keep words that appear in more than 5 documents because it gives importance to the genre\n",
    "- we only want to keep words that occur in less then 60% of the documents so the information stays more cohesive\n",
    "- we will apply class weights to the model. First we will calculate the actual needed weights for each label, then use that information together with custom weights and use it in the model selection process for selecting the best weights for the model"
   ]
  },
  {
   "cell_type": "code",
   "execution_count": 145,
   "metadata": {},
   "outputs": [
    {
     "name": "stderr",
     "output_type": "stream",
     "text": [
      "/opt/homebrew/Caskroom/miniforge/base/envs/tensorflow/lib/python3.9/site-packages/sklearn/feature_extraction/text.py:516: UserWarning: The parameter 'token_pattern' will not be used since 'tokenizer' is not None'\n",
      "  warnings.warn(\n"
     ]
    },
    {
     "name": "stdout",
     "output_type": "stream",
     "text": [
      "CPU times: user 2.93 s, sys: 68 ms, total: 2.99 s\n",
      "Wall time: 3 s\n"
     ]
    }
   ],
   "source": [
    "%%time\n",
    "\n",
    "# initialize the CountVectorizer (applying BOW)\n",
    "# because the texts are already tokenized and cleaned by using spacy we can skip that part in vectorization\n",
    "cv = CountVectorizer(tokenizer=lambda x:x, preprocessor=lambda x:x, min_df=5, max_df=0.6)\n",
    "\n",
    "# create the vocabulary\n",
    "cv.fit(X_train_str)\n",
    "\n",
    "# transform into machine language\n",
    "X_train = cv.transform(X_train_str)\n",
    "X_test = cv.transform(X_test_str)\n"
   ]
  },
  {
   "cell_type": "code",
   "execution_count": 147,
   "metadata": {},
   "outputs": [],
   "source": [
    "# to store the calculated class weights to include in the custom class weights\n",
    "class_weights = {}\n",
    "\n",
    "# get the labels and the counts of each label\n",
    "grouped = df_copied_songs.label_encode.value_counts().reset_index()\n",
    "\n",
    "# calculate and store the class weights\n",
    "for category_count in grouped.values:\n",
    "    #     source: https://www.tensorflow.org/tutorials/structured_data/imbalanced_data\n",
    "    calculate_weight = (1 / category_count[1]) * (len(df_copied_songs) / 2.0)\n",
    "    class_weights[category_count[0]] = calculate_weight"
   ]
  },
  {
   "cell_type": "code",
   "execution_count": 148,
   "metadata": {},
   "outputs": [
    {
     "data": {
      "text/plain": [
       "{0: 0.5846715275405093, 1: 3.4525863919295987}"
      ]
     },
     "execution_count": 148,
     "metadata": {},
     "output_type": "execute_result"
    }
   ],
   "source": [
    "# print the calculated class weights\n",
    "class_weights"
   ]
  },
  {
   "cell_type": "markdown",
   "metadata": {},
   "source": [
    "### Step 3: model selection and evaluation\n",
    "\n",
    "- Within this step we will apply model selection to find a good balance of class weights\n",
    "- From the results the best model will be selected\n",
    "- Lastly, we will apply evaluation on the best model to get a view of False Positive, True Positive..."
   ]
  },
  {
   "cell_type": "code",
   "execution_count": 180,
   "metadata": {},
   "outputs": [
    {
     "name": "stdout",
     "output_type": "stream",
     "text": [
      "CPU times: user 1min 3s, sys: 3.53 s, total: 1min 6s\n",
      "Wall time: 1min 1s\n"
     ]
    }
   ],
   "source": [
    "%%time\n",
    "\n",
    "# stores models\n",
    "models = []\n",
    "# custom weights\n",
    "weight_ratio_0 = [0.1, 0.2, 0.3, 0.4, 0.6, round(class_weights[0], 2)]\n",
    "weight_ratio_1 = [0.9, 0.8, 0.7, 5, 8, round(class_weights[1], 2)]\n",
    "\n",
    "# data frame for storing the reports\n",
    "df_reports = pd.DataFrame()\n",
    "\n",
    "# loops over each weight pairs\n",
    "for w0, w1 in zip(weight_ratio_0, weight_ratio_1):\n",
    "    \n",
    "#     get weights\n",
    "    weights = {0: w0, 1: w1}\n",
    "    \n",
    "#     initialize model\n",
    "    lr = LogisticRegression(solver='lbfgs', max_iter=4000, class_weight=weights)\n",
    "    \n",
    "#     applying training (BoW)\n",
    "    lr.fit(X_train, y_train)\n",
    "    \n",
    "#     store model for selection\n",
    "    models.append(lr)\n",
    "\n",
    "#     get predictions\n",
    "    y_pred = lr.predict(X_test)\n",
    "#     get probability\n",
    "    y_prob = lr.predict_proba(X_test)\n",
    "\n",
    "    predicted = [pred[label] for pred, label in zip(y_prob, y_test)]\n",
    "\n",
    "#     compute AUC to summarize the precision-recall\n",
    "    fpr, tpr, thresholds = metrics.roc_curve(y_test, predicted, pos_label=1)\n",
    "    auc_score = metrics.auc(fpr, tpr)\n",
    "    \n",
    "#     get classification report\n",
    "    report = classification_report(y_test, y_pred, target_names=labels, output_dict=True)\n",
    "\n",
    "    report_pop = report['pop']\n",
    "    report_other = report['other']\n",
    "    \n",
    "    measure_keys = report_pop.keys()\n",
    "    \n",
    "    result_store = {}\n",
    "    result_store['weights'] = weights\n",
    "    result_store['auc'] = round(auc_score, 2)\n",
    "    \n",
    "#     store measures in data frame named df_reports\n",
    "    for measure in measure_keys:\n",
    "        r0 = round(report_other[measure], 3)\n",
    "        r1 = round(report_pop[measure], 3)\n",
    "        result_store[measure] = f'[0]: {r0}, [1]: {r1}'\n",
    "        \n",
    "    df_reports = df_reports.append(result_store, ignore_index=True)\n"
   ]
  },
  {
   "cell_type": "code",
   "execution_count": 196,
   "metadata": {},
   "outputs": [
    {
     "data": {
      "text/plain": [
       "<AxesSubplot:title={'center':'AUC score'}, xlabel='model number'>"
      ]
     },
     "execution_count": 196,
     "metadata": {},
     "output_type": "execute_result"
    },
    {
     "data": {
      "image/png": "[encoded data removed]",
      "text/plain": [
       "<Figure size 432x288 with 1 Axes>"
      ]
     },
     "metadata": {
      "needs_background": "light"
     },
     "output_type": "display_data"
    }
   ],
   "source": [
    "# plot AUC score\n",
    "df_reports.auc.plot(title='AUC score', xlabel='model number')\n"
   ]
  },
  {
   "cell_type": "code",
   "execution_count": 181,
   "metadata": {},
   "outputs": [
    {
     "data": {
      "text/html": [
       "<div>\n",
       "<style scoped>\n",
       "    .dataframe tbody tr th:only-of-type {\n",
       "        vertical-align: middle;\n",
       "    }\n",
       "\n",
       "    .dataframe tbody tr th {\n",
       "        vertical-align: top;\n",
       "    }\n",
       "\n",
       "    .dataframe thead th {\n",
       "        text-align: right;\n",
       "    }\n",
       "</style>\n",
       "<table border=\"1\" class=\"dataframe\">\n",
       "  <thead>\n",
       "    <tr style=\"text-align: right;\">\n",
       "      <th></th>\n",
       "      <th>weights</th>\n",
       "      <th>auc</th>\n",
       "      <th>precision</th>\n",
       "      <th>recall</th>\n",
       "      <th>f1-score</th>\n",
       "      <th>support</th>\n",
       "    </tr>\n",
       "  </thead>\n",
       "  <tbody>\n",
       "    <tr>\n",
       "      <th>0</th>\n",
       "      <td>{0: 0.1, 1: 0.9}</td>\n",
       "      <td>0.58</td>\n",
       "      <td>[0]: 0.93, [1]: 0.222</td>\n",
       "      <td>[0]: 0.554, [1]: 0.754</td>\n",
       "      <td>[0]: 0.694, [1]: 0.344</td>\n",
       "      <td>[0]: 41268, [1]: 6989</td>\n",
       "    </tr>\n",
       "    <tr>\n",
       "      <th>1</th>\n",
       "      <td>{0: 0.2, 1: 0.8}</td>\n",
       "      <td>0.26</td>\n",
       "      <td>[0]: 0.902, [1]: 0.308</td>\n",
       "      <td>[0]: 0.819, [1]: 0.476</td>\n",
       "      <td>[0]: 0.858, [1]: 0.374</td>\n",
       "      <td>[0]: 41268, [1]: 6989</td>\n",
       "    </tr>\n",
       "    <tr>\n",
       "      <th>2</th>\n",
       "      <td>{0: 0.3, 1: 0.7}</td>\n",
       "      <td>0.12</td>\n",
       "      <td>[0]: 0.884, [1]: 0.368</td>\n",
       "      <td>[0]: 0.915, [1]: 0.291</td>\n",
       "      <td>[0]: 0.899, [1]: 0.325</td>\n",
       "      <td>[0]: 41268, [1]: 6989</td>\n",
       "    </tr>\n",
       "    <tr>\n",
       "      <th>3</th>\n",
       "      <td>{0: 0.4, 1: 5}</td>\n",
       "      <td>0.59</td>\n",
       "      <td>[0]: 0.931, [1]: 0.211</td>\n",
       "      <td>[0]: 0.508, [1]: 0.777</td>\n",
       "      <td>[0]: 0.657, [1]: 0.332</td>\n",
       "      <td>[0]: 41268, [1]: 6989</td>\n",
       "    </tr>\n",
       "    <tr>\n",
       "      <th>4</th>\n",
       "      <td>{0: 0.6, 1: 8}</td>\n",
       "      <td>0.59</td>\n",
       "      <td>[0]: 0.93, [1]: 0.21</td>\n",
       "      <td>[0]: 0.507, [1]: 0.775</td>\n",
       "      <td>[0]: 0.656, [1]: 0.331</td>\n",
       "      <td>[0]: 41268, [1]: 6989</td>\n",
       "    </tr>\n",
       "    <tr>\n",
       "      <th>5</th>\n",
       "      <td>{0: 0.58, 1: 3.45}</td>\n",
       "      <td>0.39</td>\n",
       "      <td>[0]: 0.915, [1]: 0.259</td>\n",
       "      <td>[0]: 0.704, [1]: 0.612</td>\n",
       "      <td>[0]: 0.796, [1]: 0.364</td>\n",
       "      <td>[0]: 41268, [1]: 6989</td>\n",
       "    </tr>\n",
       "  </tbody>\n",
       "</table>\n",
       "</div>"
      ],
      "text/plain": [
       "              weights   auc               precision                  recall  \\\n",
       "0    {0: 0.1, 1: 0.9}  0.58   [0]: 0.93, [1]: 0.222  [0]: 0.554, [1]: 0.754   \n",
       "1    {0: 0.2, 1: 0.8}  0.26  [0]: 0.902, [1]: 0.308  [0]: 0.819, [1]: 0.476   \n",
       "2    {0: 0.3, 1: 0.7}  0.12  [0]: 0.884, [1]: 0.368  [0]: 0.915, [1]: 0.291   \n",
       "3      {0: 0.4, 1: 5}  0.59  [0]: 0.931, [1]: 0.211  [0]: 0.508, [1]: 0.777   \n",
       "4      {0: 0.6, 1: 8}  0.59    [0]: 0.93, [1]: 0.21  [0]: 0.507, [1]: 0.775   \n",
       "5  {0: 0.58, 1: 3.45}  0.39  [0]: 0.915, [1]: 0.259  [0]: 0.704, [1]: 0.612   \n",
       "\n",
       "                 f1-score                support  \n",
       "0  [0]: 0.694, [1]: 0.344  [0]: 41268, [1]: 6989  \n",
       "1  [0]: 0.858, [1]: 0.374  [0]: 41268, [1]: 6989  \n",
       "2  [0]: 0.899, [1]: 0.325  [0]: 41268, [1]: 6989  \n",
       "3  [0]: 0.657, [1]: 0.332  [0]: 41268, [1]: 6989  \n",
       "4  [0]: 0.656, [1]: 0.331  [0]: 41268, [1]: 6989  \n",
       "5  [0]: 0.796, [1]: 0.364  [0]: 41268, [1]: 6989  "
      ]
     },
     "execution_count": 181,
     "metadata": {},
     "output_type": "execute_result"
    }
   ],
   "source": [
    "df_reports"
   ]
  },
  {
   "cell_type": "markdown",
   "metadata": {},
   "source": [
    "### Interpretation\n",
    "\n",
    "According to the model selection and the report there are some interesting candidates such as model 0, 3 and 4. We will select model 3 due to a good balance between AUC score, F1-score, Recall and Precision (overall bad due to less data)."
   ]
  },
  {
   "cell_type": "code",
   "execution_count": 197,
   "metadata": {},
   "outputs": [
    {
     "name": "stdout",
     "output_type": "stream",
     "text": [
      "              precision    recall  f1-score   support\n",
      "\n",
      "       other       0.93      0.51      0.66     41268\n",
      "         pop       0.21      0.78      0.33      6989\n",
      "\n",
      "    accuracy                           0.55     48257\n",
      "   macro avg       0.57      0.64      0.49     48257\n",
      "weighted avg       0.83      0.55      0.61     48257\n",
      "\n"
     ]
    },
    {
     "data": {
      "image/png": "[encoded data removed]",
      "text/plain": [
       "<Figure size 432x288 with 2 Axes>"
      ]
     },
     "metadata": {
      "needs_background": "light"
     },
     "output_type": "display_data"
    }
   ],
   "source": [
    "best_model = models[3]\n",
    "\n",
    "# applying predicting labels\n",
    "y_pred = best_model.predict(X_test)\n",
    "\n",
    "# evaluating results\n",
    "print(classification_report(y_test, y_pred, target_names=labels))\n",
    "\n",
    "conf_matrix = ConfusionMatrixDisplay.from_predictions(y_test, y_pred, display_labels=labels)"
   ]
  },
  {
   "cell_type": "markdown",
   "metadata": {},
   "source": [
    "### Interpretation\n",
    "\n",
    "- FN: 1558x missclassified, classified Other but should be Pop\n",
    "- FP: 20000x missclassified, classified Pop but should be Other\n",
    "- TP: The model predicted Pop 5431x correctly\n",
    "- TN: The model predicted Other 20957x correctly\n",
    "- Recall: the model was capable of identifying actual Pop genre for 78% correctly and Other genre for 51%\n",
    "- Precision: the identifications of positive Pop genre was actually correct for 21% and for Other 93%\n",
    "\n",
    "From the evaluation we can say that the model did not perform well due to imbalanced data even when class weights were applied. But, the model was able to classify Other correctly for 93% meaning when we give a unseen lyrics that the model will be able to correctly identify the label Other. Furthermore, from all the Pop lyrics in the data set the model found 78% of them correctly.\n",
    "\n",
    "The next step is predicting a label for the unlabeled lyrics and evaluate the result."
   ]
  },
  {
   "cell_type": "markdown",
   "metadata": {},
   "source": [
    "### Step 4: predict the label for the unseen lyrics\n",
    "\n",
    "- for being able to use the unseen data we will have to apply spacy, cleaning and vectorization\n",
    "- then we will predict the label\n",
    "- lastly, interpret the result, lyrics and the features of Pop"
   ]
  },
  {
   "cell_type": "code",
   "execution_count": 201,
   "metadata": {},
   "outputs": [],
   "source": [
    "unseen_data = \"\"\"The sky breaks open and the rain falls down\n",
    "Oh, and the pain is blinding\n",
    "But we carry on...\n",
    "Seems like the end of everything\n",
    "When the one you love\n",
    "Turns their back on you\n",
    "And the whole world falls down on you...\n",
    "It's the end of the world\n",
    "It's the end of the world\n",
    "Well, I'm holding on...\n",
    "But the world keeps dragging me down...\n",
    "It's the end of the world\n",
    "It's the end of the world\n",
    "Well, I'm holding on...\n",
    "But the world keeps dragging me down...\n",
    "I got my heart on lockdown\n",
    "And my eyes on the lookout\n",
    "But I just know that I'm\n",
    "Never gonna win this\n",
    "They can keep the lights on\n",
    "They can keep the music loud\n",
    "I don't need anything\n",
    "When I got my music\n",
    "And I'm holding on...\n",
    "The sky breaks open and the rain falls down\n",
    "And the pain is blinding\n",
    "But we carry on\n",
    "(They tell you lies)\n",
    "I'm holding on...\n",
    "(They tell you lies)The sky breaks open and the rain falls down\n",
    "Oh, and the pain is blinding\n",
    "But we carry on...\n",
    "Seems like the end of everything\n",
    "When the one you love\n",
    "Turns their back on you\n",
    "And the whole world falls down on you...\n",
    "It's the end of the world\n",
    "It's the end of the world\n",
    "Well, I'm holding on...\n",
    "But the world keeps dragging me down...\n",
    "It's the end of the world\n",
    "It's the end of the world\n",
    "Well, I'm holding on...\n",
    "But the world keeps dragging me down...\n",
    "I got my heart on lockdown\n",
    "And my eyes on the lookout\n",
    "But I just know that I'm\n",
    "Never gonna win this\n",
    "They can keep the lights on\n",
    "They can keep the music loud\n",
    "I don't need anything\n",
    "When I got my music\n",
    "And I'm holding on...\n",
    "The sky breaks open and the rain falls down\n",
    "And the pain is blinding\n",
    "But we carry on\n",
    "(They tell you lies)\n",
    "I'm holding on...\n",
    "(They tell you lies)\"\"\""
   ]
  },
  {
   "cell_type": "code",
   "execution_count": 216,
   "metadata": {},
   "outputs": [],
   "source": [
    "# clean the text from escapes\n",
    "cleaned_escapes = re.sub('[\\\\n().]', ' ', unseen_data)"
   ]
  },
  {
   "cell_type": "code",
   "execution_count": 217,
   "metadata": {},
   "outputs": [
    {
     "name": "stdout",
     "output_type": "stream",
     "text": [
      "CPU times: user 413 ms, sys: 246 ms, total: 659 ms\n",
      "Wall time: 5.13 s\n"
     ]
    }
   ],
   "source": [
    "%%time\n",
    "# apply spacy\n",
    "nlp = spacy.load(\"en_core_web_sm\")\n",
    "processed_texts = [doc for doc in nlp.pipe(cleaned_escapes.split(), n_process=2, batch_size=2000, disable=[\"ner\", \"parser\"])]\n"
   ]
  },
  {
   "cell_type": "code",
   "execution_count": 228,
   "metadata": {},
   "outputs": [
    {
     "name": "stdout",
     "output_type": "stream",
     "text": [
      "Features of the given unlabeled lyrics:\n",
      "['sky', 'break', 'open', 'rain', 'pain', 'love', 'world', 'world', 'world', 'world', 'world', 'world', 'world', 'heart', 'eye', 'win', 'light', 'music', 'loud', 'need', 'music', 'sky', 'break', 'open', 'rain', 'pain', 'sky', 'break', 'open', 'rain', 'pain', 'love', 'world', 'world', 'world', 'world', 'world', 'world', 'world', 'heart', 'eye', 'win', 'light', 'music', 'loud', 'need', 'music', 'sky', 'break', 'open', 'rain', 'pain']\n"
     ]
    }
   ],
   "source": [
    "# get the lemma nouns and adjs\n",
    "unseen_dictonary = word_lemma_dictionary(processed_texts)\n",
    "cleaned = clean(cleaned_escapes, unseen_dictonary)\n",
    "\n",
    "print('Features of the given unlabeled lyrics:')\n",
    "print(cleaned)"
   ]
  },
  {
   "cell_type": "code",
   "execution_count": 227,
   "metadata": {},
   "outputs": [
    {
     "data": {
      "text/plain": [
       "(array([1]), array([[0.13266895, 0.86733105]]))"
      ]
     },
     "execution_count": 227,
     "metadata": {},
     "output_type": "execute_result"
    }
   ],
   "source": [
    "# transform into machine language\n",
    "X_unseen_test = cv.transform([cleaned])\n",
    "\n",
    "# predict the label\n",
    "y_unseen_pred = best_model.predict(X_unseen_test)\n",
    "y_unseen_prob = best_model.predict_proba(X_unseen_test)\n",
    "\n",
    "# result\n",
    "y_unseen_pred, y_unseen_prob"
   ]
  },
  {
   "cell_type": "markdown",
   "metadata": {},
   "source": [
    "### interpretation\n",
    "\n",
    "From the result we can see that the model predicted the unlabeled lyrics as Pop with a probability of 86% and for Other 13%. Knowing that the model is capable of correctly identifying the label Other for 93% (Precision) then this could mean that the lyrics were actually not Other.\n",
    "\n",
    "Next, we have to get the coefficients with the corresponding words to get a idea why a certain prediction is made, compare it with the features we extracted from LLR and the features from the unseen lyrics. Then, with this information we can come to a conclusion.\n"
   ]
  },
  {
   "cell_type": "code",
   "execution_count": 305,
   "metadata": {},
   "outputs": [],
   "source": [
    "def get_coff_x_words(vocabulary, regression_coefficients, rows=20, asc_state=False):\n",
    "    # this combines two separate lists [1, 2], ['word1', 'word2'] into one list [[1, 'word1'], [2, 'word2']]\n",
    "    vocab_coef_combined = list(zip(regression_coefficients, vocabulary))\n",
    "    feature_importance = pd.DataFrame(vocab_coef_combined, columns=['coef', 'word'])\n",
    "    return feature_importance.sort_values('coef', ascending=asc_state).head(rows)\n",
    "\n",
    "# get feature names\n",
    "vocabulary = cv.get_feature_names_out()\n",
    "\n",
    "# get the weights\n",
    "regression_coefficients = best_model.coef_[0]\n",
    "\n",
    "feature_importance0 = get_coff_x_words(vocabulary, regression_coefficients)"
   ]
  },
  {
   "cell_type": "code",
   "execution_count": 306,
   "metadata": {},
   "outputs": [
    {
     "name": "stdout",
     "output_type": "stream",
     "text": [
      "Coefficient features:\n",
      "['claude' 'repeater' 'punctuate' 'flair' 'agnetha' 'frankfurter'\n",
      " 'sixteenth' 'stylin' 'scruffy' 'hillbilly' 'audible' 'noontime'\n",
      " 'flagstaff' 'sunder' 'putter' 'ashanti' 'natal' 'socialist' 'perm'\n",
      " 'curlin']\n"
     ]
    }
   ],
   "source": [
    "print('Coefficient features:')\n",
    "print(feature_importance0.word.values)"
   ]
  },
  {
   "cell_type": "code",
   "execution_count": 293,
   "metadata": {},
   "outputs": [
    {
     "name": "stdout",
     "output_type": "stream",
     "text": [
      "LLR Pop features:\n",
      "['love' 'baby' 'la' 'heart' 'girl' 'need' 'boy' 'tonight' 'way' 'touch'\n",
      " 'night' 'babe' 'crazy' 'right' 'na' 'time' 'lover' 'true' 'thing' 'good'\n",
      " 'close' 'beautiful' 'happy' 'goodbye' 'sexy' 'world' 'day' 'thinking'\n",
      " 'body' 'well']\n"
     ]
    }
   ],
   "source": [
    "print('LLR Pop features:')\n",
    "print(plot_pop_vs_all.word.values)"
   ]
  },
  {
   "cell_type": "code",
   "execution_count": 302,
   "metadata": {},
   "outputs": [
    {
     "name": "stdout",
     "output_type": "stream",
     "text": [
      "LLR Other features:\n",
      "['nigga' 'niggas' 'shit' 'bitch' 'fuck' 'death' 'ass' 'dead' 'fucking'\n",
      " 'blood' 'hoe' 'black' 'yo' 'kill' 'gun' 'hell' 'man' 'dog' 'motherfucker'\n",
      " 'rap' 'money' 'old' 'wit' 'thug' 'son' 'dick' 'bone' 'evil' 'war' 'pussy']\n"
     ]
    }
   ],
   "source": [
    "print('LLR Other features:')\n",
    "print(plot_other_vs_pop.word.values)"
   ]
  },
  {
   "cell_type": "code",
   "execution_count": 276,
   "metadata": {},
   "outputs": [
    {
     "name": "stdout",
     "output_type": "stream",
     "text": [
      "Unseen lyrics features:\n",
      "{'music', 'world', 'heart', 'need', 'loud', 'pain', 'win', 'rain', 'sky', 'love', 'open', 'eye', 'break', 'light'}\n"
     ]
    }
   ],
   "source": [
    "print('Unseen lyrics features:')\n",
    "print(set(cleaned))"
   ]
  },
  {
   "cell_type": "markdown",
   "metadata": {},
   "source": [
    "### Interpretation / discussion:\n",
    "\n",
    "If we look at the result of the coefficient features and LLR pop features, we see that the coefficients are more associated with the words within the label Other than Pop. We see this by comparing both feature vectors. Pop's distinctive characters do not appear in the most commonly associated coefficient words such as Love, Baby, Girl and World. This also applies to the features of the unseen lyrics, which do not appear in the most associated coefficients. This means that the model is good at predicting the label Other, which has a higher f1 score and Precision compared to the label Pop. We can say that from the most distinctive words of Pop, number of words occur in the features of the unseen lyrics such as Need, Love and World. So, we have trained more of a model that is good at not predicting Pop and because he does not recognize patterns in unseen lyrics data to predict Other, he predicts Pop.  Because the model is not good quality knowing that the measurement scores are not very impressive, this could open a way to train a BERT model that is more suitable for finding interconnections within a space of words and contexts.\n",
    "\n",
    "After subsetting Pop and Other data, we applied the LLR to extract the most distinctive words. Those words form a set of characters that describe Pop. Pop's characters, however, reflect that it is a genre of e.g. love, romanticism, heartbreak, farewell and happiness. When we look at the most distinctive words of Others then we can clearly see that it does not fit in Pop and the features of the unseen lyrics. But, as mentioned before, when comparing Pop vs Other the most distinctive words of Pop could also be found in Other like Country and Indie but because the predominant genres like Rock, Hip-Hop and Metal have incredibly high LLR scores they are rare. This probably doesn't answer the question, but it does give an indication of Pop's characteristics. In addition, it also offers an opportunity to perform a further analysis by applying for example a Topic Model to obtain the most prominent topics within genres.\n"
   ]
  },
  {
   "cell_type": "markdown",
   "metadata": {},
   "source": [
    "### Data set construction:\n",
    "\n",
    "The dataset consists of lyrics that belong to music songs from different genres over the years. Especially because we have lyrics of different genres it can be interesting exploring the characters by analyzing the words within the lyrics to gain knowledge about the differences."
   ]
  },
  {
   "cell_type": "markdown",
   "metadata": {},
   "source": [
    "### Documents consulted:\n",
    "\n",
    "- https://scikit-learn.org/stable/index.html\n",
    "- https://www.tensorflow.org/\n",
    "- https://matplotlib.org/\n",
    "- https://pandas.pydata.org/docs/index.html"
   ]
  }
 ],
 "metadata": {
  "kernelspec": {
   "display_name": "Python 3.9 (tensorflow)",
   "language": "python",
   "name": "tensorflow"
  },
  "language_info": {
   "codemirror_mode": {
    "name": "ipython",
    "version": 3
   },
   "file_extension": ".py",
   "mimetype": "text/x-python",
   "name": "python",
   "nbconvert_exporter": "python",
   "pygments_lexer": "ipython3",
   "version": "3.9.7"
  }
 },
 "nbformat": 4,
 "nbformat_minor": 1
}
